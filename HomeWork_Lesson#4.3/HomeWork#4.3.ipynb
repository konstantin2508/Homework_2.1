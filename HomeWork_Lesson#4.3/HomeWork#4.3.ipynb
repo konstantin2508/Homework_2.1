{
 "cells": [
  {
   "cell_type": "markdown",
   "metadata": {},
   "source": [
    "# Домашнее задание к лекции 4.3 «Работа с данными»"
   ]
  },
  {
   "cell_type": "markdown",
   "metadata": {},
   "source": [
    "Используя kmeans сделать кластеризацию футбольных команд по кол-ву пропущеных мячей и количеству проигрышей, результат отобразить в виде точечного графика для случая из 3 и из 5 кластеров."
   ]
  },
  {
   "cell_type": "code",
   "execution_count": 1,
   "metadata": {
    "collapsed": true
   },
   "outputs": [],
   "source": [
    "import requests\n",
    "\n",
    "import pandas as pd\n",
    "import numpy as np\n",
    "import matplotlib.pyplot as plt\n",
    "\n",
    "%matplotlib inline"
   ]
  },
  {
   "cell_type": "markdown",
   "metadata": {},
   "source": [
    "Импортируем функции из библиотеки для кластеризации и векторного квантования."
   ]
  },
  {
   "cell_type": "code",
   "execution_count": 2,
   "metadata": {
    "collapsed": true
   },
   "outputs": [],
   "source": [
    "from scipy.cluster.vq import whiten, kmeans2"
   ]
  },
  {
   "cell_type": "markdown",
   "metadata": {},
   "source": [
    "Для удобства зададим вспомогательный метод для обращения к API."
   ]
  },
  {
   "cell_type": "code",
   "execution_count": 3,
   "metadata": {
    "collapsed": true
   },
   "outputs": [],
   "source": [
    "def call_api(uri, result_key):\n",
    "    json = {}\n",
    "    try:\n",
    "        json = requests.get(uri, headers = { 'X-Auth-Token': 'c52b7825851b4357af3e06c1888152f0' }).json()\n",
    "        return json[result_key]\n",
    "    except:\n",
    "        print(json)\n",
    "        return None"
   ]
  },
  {
   "cell_type": "markdown",
   "metadata": {},
   "source": [
    "Будем анализировать турнирную таблицу Итальянской Серии А сезон 2016-2017"
   ]
  },
  {
   "cell_type": "code",
   "execution_count": 4,
   "metadata": {
    "scrolled": true
   },
   "outputs": [
    {
     "data": {
      "text/plain": [
       "[{'_links': {'team': {'href': 'http://api.football-data.org/v1/teams/109'}},\n",
       "  'away': {'draws': 3,\n",
       "   'goals': 29,\n",
       "   'goalsAgainst': 18,\n",
       "   'losses': 5,\n",
       "   'wins': 11},\n",
       "  'crestURI': 'http://upload.wikimedia.org/wikipedia/de/d/d2/Juventus_Turin.svg',\n",
       "  'draws': 4,\n",
       "  'goalDifference': 50,\n",
       "  'goals': 77,\n",
       "  'goalsAgainst': 27,\n",
       "  'home': {'draws': 1,\n",
       "   'goals': 48,\n",
       "   'goalsAgainst': 9,\n",
       "   'losses': 0,\n",
       "   'wins': 18},\n",
       "  'losses': 5,\n",
       "  'playedGames': 38,\n",
       "  'points': 91,\n",
       "  'position': 1,\n",
       "  'teamName': 'Juventus Turin',\n",
       "  'wins': 29},\n",
       " {'_links': {'team': {'href': 'http://api.football-data.org/v1/teams/100'}},\n",
       "  'away': {'draws': 2,\n",
       "   'goals': 40,\n",
       "   'goalsAgainst': 20,\n",
       "   'losses': 5,\n",
       "   'wins': 12},\n",
       "  'crestURI': 'http://upload.wikimedia.org/wikipedia/de/3/32/AS_Rom.svg',\n",
       "  'draws': 3,\n",
       "  'goalDifference': 52,\n",
       "  'goals': 90,\n",
       "  'goalsAgainst': 38,\n",
       "  'home': {'draws': 1,\n",
       "   'goals': 50,\n",
       "   'goalsAgainst': 18,\n",
       "   'losses': 2,\n",
       "   'wins': 16},\n",
       "  'losses': 7,\n",
       "  'playedGames': 38,\n",
       "  'points': 87,\n",
       "  'position': 2,\n",
       "  'teamName': 'AS Roma',\n",
       "  'wins': 28},\n",
       " {'_links': {'team': {'href': 'http://api.football-data.org/v1/teams/113'}},\n",
       "  'away': {'draws': 4,\n",
       "   'goals': 50,\n",
       "   'goalsAgainst': 20,\n",
       "   'losses': 2,\n",
       "   'wins': 13},\n",
       "  'crestURI': 'http://upload.wikimedia.org/wikipedia/commons/2/28/S.S.C._Napoli_logo.svg',\n",
       "  'draws': 8,\n",
       "  'goalDifference': 55,\n",
       "  'goals': 94,\n",
       "  'goalsAgainst': 39,\n",
       "  'home': {'draws': 4,\n",
       "   'goals': 44,\n",
       "   'goalsAgainst': 19,\n",
       "   'losses': 2,\n",
       "   'wins': 13},\n",
       "  'losses': 4,\n",
       "  'playedGames': 38,\n",
       "  'points': 86,\n",
       "  'position': 3,\n",
       "  'teamName': 'SSC Napoli',\n",
       "  'wins': 26},\n",
       " {'_links': {'team': {'href': 'http://api.football-data.org/v1/teams/102'}},\n",
       "  'away': {'draws': 5,\n",
       "   'goals': 31,\n",
       "   'goalsAgainst': 23,\n",
       "   'losses': 5,\n",
       "   'wins': 9},\n",
       "  'crestURI': 'http://upload.wikimedia.org/wikipedia/de/2/28/Atalanta_BC.svg',\n",
       "  'draws': 9,\n",
       "  'goalDifference': 21,\n",
       "  'goals': 62,\n",
       "  'goalsAgainst': 41,\n",
       "  'home': {'draws': 4,\n",
       "   'goals': 31,\n",
       "   'goalsAgainst': 18,\n",
       "   'losses': 3,\n",
       "   'wins': 12},\n",
       "  'losses': 8,\n",
       "  'playedGames': 38,\n",
       "  'points': 72,\n",
       "  'position': 4,\n",
       "  'teamName': 'Atalanta BC',\n",
       "  'wins': 21},\n",
       " {'_links': {'team': {'href': 'http://api.football-data.org/v1/teams/110'}},\n",
       "  'away': {'draws': 5,\n",
       "   'goals': 34,\n",
       "   'goalsAgainst': 28,\n",
       "   'losses': 5,\n",
       "   'wins': 9},\n",
       "  'crestURI': 'http://upload.wikimedia.org/wikipedia/de/thumb/4/47/Lazio_Rom.svg/500px-Lazio_Rom.svg.png',\n",
       "  'draws': 7,\n",
       "  'goalDifference': 23,\n",
       "  'goals': 74,\n",
       "  'goalsAgainst': 51,\n",
       "  'home': {'draws': 2,\n",
       "   'goals': 40,\n",
       "   'goalsAgainst': 23,\n",
       "   'losses': 5,\n",
       "   'wins': 12},\n",
       "  'losses': 10,\n",
       "  'playedGames': 38,\n",
       "  'points': 70,\n",
       "  'position': 5,\n",
       "  'teamName': 'SS Lazio',\n",
       "  'wins': 21},\n",
       " {'_links': {'team': {'href': 'http://api.football-data.org/v1/teams/98'}},\n",
       "  'away': {'draws': 7,\n",
       "   'goals': 25,\n",
       "   'goalsAgainst': 25,\n",
       "   'losses': 6,\n",
       "   'wins': 6},\n",
       "  'crestURI': 'http://upload.wikimedia.org/wikipedia/de/9/9e/AC_Mailand_Logo.svg',\n",
       "  'draws': 9,\n",
       "  'goalDifference': 12,\n",
       "  'goals': 57,\n",
       "  'goalsAgainst': 45,\n",
       "  'home': {'draws': 2,\n",
       "   'goals': 32,\n",
       "   'goalsAgainst': 20,\n",
       "   'losses': 5,\n",
       "   'wins': 12},\n",
       "  'losses': 11,\n",
       "  'playedGames': 38,\n",
       "  'points': 63,\n",
       "  'position': 6,\n",
       "  'teamName': 'AC Milan',\n",
       "  'wins': 18},\n",
       " {'_links': {'team': {'href': 'http://api.football-data.org/v1/teams/108'}},\n",
       "  'away': {'draws': 2,\n",
       "   'goals': 28,\n",
       "   'goalsAgainst': 27,\n",
       "   'losses': 9,\n",
       "   'wins': 8},\n",
       "  'crestURI': 'https://upload.wikimedia.org/wikipedia/it/7/7e/Logo_FC_Internazionale_Milano_2014.png',\n",
       "  'draws': 5,\n",
       "  'goalDifference': 23,\n",
       "  'goals': 72,\n",
       "  'goalsAgainst': 49,\n",
       "  'home': {'draws': 3,\n",
       "   'goals': 44,\n",
       "   'goalsAgainst': 22,\n",
       "   'losses': 5,\n",
       "   'wins': 11},\n",
       "  'losses': 14,\n",
       "  'playedGames': 38,\n",
       "  'points': 62,\n",
       "  'position': 7,\n",
       "  'teamName': 'FC Internazionale Milano',\n",
       "  'wins': 19},\n",
       " {'_links': {'team': {'href': 'http://api.football-data.org/v1/teams/99'}},\n",
       "  'away': {'draws': 4,\n",
       "   'goals': 29,\n",
       "   'goalsAgainst': 34,\n",
       "   'losses': 9,\n",
       "   'wins': 6},\n",
       "  'crestURI': 'https://upload.wikimedia.org/wikipedia/en/b/ba/ACF_Fiorentina_2.svg',\n",
       "  'draws': 12,\n",
       "  'goalDifference': 6,\n",
       "  'goals': 63,\n",
       "  'goalsAgainst': 57,\n",
       "  'home': {'draws': 8,\n",
       "   'goals': 34,\n",
       "   'goalsAgainst': 23,\n",
       "   'losses': 1,\n",
       "   'wins': 10},\n",
       "  'losses': 10,\n",
       "  'playedGames': 38,\n",
       "  'points': 60,\n",
       "  'position': 8,\n",
       "  'teamName': 'ACF Fiorentina',\n",
       "  'wins': 16},\n",
       " {'_links': {'team': {'href': 'http://api.football-data.org/v1/teams/586'}},\n",
       "  'away': {'draws': 6,\n",
       "   'goals': 28,\n",
       "   'goalsAgainst': 35,\n",
       "   'losses': 9,\n",
       "   'wins': 4},\n",
       "  'crestURI': 'http://upload.wikimedia.org/wikipedia/de/2/2e/Torino_FC_Logo.svg',\n",
       "  'draws': 14,\n",
       "  'goalDifference': 5,\n",
       "  'goals': 71,\n",
       "  'goalsAgainst': 66,\n",
       "  'home': {'draws': 8,\n",
       "   'goals': 43,\n",
       "   'goalsAgainst': 31,\n",
       "   'losses': 2,\n",
       "   'wins': 9},\n",
       "  'losses': 11,\n",
       "  'playedGames': 38,\n",
       "  'points': 53,\n",
       "  'position': 9,\n",
       "  'teamName': 'Torino FC',\n",
       "  'wins': 13},\n",
       " {'_links': {'team': {'href': 'http://api.football-data.org/v1/teams/584'}},\n",
       "  'away': {'draws': 6,\n",
       "   'goals': 21,\n",
       "   'goalsAgainst': 32,\n",
       "   'losses': 9,\n",
       "   'wins': 4},\n",
       "  'crestURI': 'https://upload.wikimedia.org/wikipedia/en/f/f7/Sampdoria_badge.png',\n",
       "  'draws': 12,\n",
       "  'goalDifference': -6,\n",
       "  'goals': 49,\n",
       "  'goalsAgainst': 55,\n",
       "  'home': {'draws': 6,\n",
       "   'goals': 28,\n",
       "   'goalsAgainst': 23,\n",
       "   'losses': 5,\n",
       "   'wins': 8},\n",
       "  'losses': 14,\n",
       "  'playedGames': 38,\n",
       "  'points': 48,\n",
       "  'position': 10,\n",
       "  'teamName': 'UC Sampdoria',\n",
       "  'wins': 12},\n",
       " {'_links': {'team': {'href': 'http://api.football-data.org/v1/teams/104'}},\n",
       "  'away': {'draws': 2,\n",
       "   'goals': 17,\n",
       "   'goalsAgainst': 42,\n",
       "   'losses': 14,\n",
       "   'wins': 3},\n",
       "  'crestURI': 'http://upload.wikimedia.org/wikipedia/de/3/3d/Cagliari_Calcio.svg',\n",
       "  'draws': 5,\n",
       "  'goalDifference': -21,\n",
       "  'goals': 55,\n",
       "  'goalsAgainst': 76,\n",
       "  'home': {'draws': 3,\n",
       "   'goals': 38,\n",
       "   'goalsAgainst': 34,\n",
       "   'losses': 5,\n",
       "   'wins': 11},\n",
       "  'losses': 19,\n",
       "  'playedGames': 38,\n",
       "  'points': 47,\n",
       "  'position': 11,\n",
       "  'teamName': 'Cagliari Calcio',\n",
       "  'wins': 14},\n",
       " {'_links': {'team': {'href': 'http://api.football-data.org/v1/teams/471'}},\n",
       "  'away': {'draws': 4,\n",
       "   'goals': 31,\n",
       "   'goalsAgainst': 35,\n",
       "   'losses': 9,\n",
       "   'wins': 6},\n",
       "  'crestURI': 'http://upload.wikimedia.org/wikipedia/de/a/a3/US_Sassuolo_Calcio.svg',\n",
       "  'draws': 7,\n",
       "  'goalDifference': -5,\n",
       "  'goals': 58,\n",
       "  'goalsAgainst': 63,\n",
       "  'home': {'draws': 3,\n",
       "   'goals': 27,\n",
       "   'goalsAgainst': 28,\n",
       "   'losses': 9,\n",
       "   'wins': 7},\n",
       "  'losses': 18,\n",
       "  'playedGames': 38,\n",
       "  'points': 46,\n",
       "  'position': 12,\n",
       "  'teamName': 'US Sassuolo Calcio',\n",
       "  'wins': 13},\n",
       " {'_links': {'team': {'href': 'http://api.football-data.org/v1/teams/115'}},\n",
       "  'away': {'draws': 4,\n",
       "   'goals': 17,\n",
       "   'goalsAgainst': 33,\n",
       "   'losses': 11,\n",
       "   'wins': 4},\n",
       "  'crestURI': 'http://upload.wikimedia.org/wikipedia/de/b/b1/Udinese_Calcio.svg',\n",
       "  'draws': 9,\n",
       "  'goalDifference': -9,\n",
       "  'goals': 47,\n",
       "  'goalsAgainst': 56,\n",
       "  'home': {'draws': 5,\n",
       "   'goals': 30,\n",
       "   'goalsAgainst': 23,\n",
       "   'losses': 6,\n",
       "   'wins': 8},\n",
       "  'losses': 17,\n",
       "  'playedGames': 38,\n",
       "  'points': 45,\n",
       "  'position': 13,\n",
       "  'teamName': 'Udinese Calcio',\n",
       "  'wins': 12},\n",
       " {'_links': {'team': {'href': 'http://api.football-data.org/v1/teams/106'}},\n",
       "  'away': {'draws': 2,\n",
       "   'goals': 18,\n",
       "   'goalsAgainst': 31,\n",
       "   'losses': 11,\n",
       "   'wins': 6},\n",
       "  'crestURI': 'http://upload.wikimedia.org/wikipedia/de/3/3f/AC_Chievo_Verona.svg',\n",
       "  'draws': 7,\n",
       "  'goalDifference': -18,\n",
       "  'goals': 43,\n",
       "  'goalsAgainst': 61,\n",
       "  'home': {'draws': 5,\n",
       "   'goals': 25,\n",
       "   'goalsAgainst': 30,\n",
       "   'losses': 8,\n",
       "   'wins': 6},\n",
       "  'losses': 19,\n",
       "  'playedGames': 38,\n",
       "  'points': 43,\n",
       "  'position': 14,\n",
       "  'teamName': 'AC Chievo Verona',\n",
       "  'wins': 12},\n",
       " {'_links': {'team': {'href': 'http://api.football-data.org/v1/teams/103'}},\n",
       "  'away': {'draws': 6,\n",
       "   'goals': 16,\n",
       "   'goalsAgainst': 33,\n",
       "   'losses': 10,\n",
       "   'wins': 3},\n",
       "  'crestURI': 'http://upload.wikimedia.org/wikipedia/de/9/92/FC_Bologna.svg',\n",
       "  'draws': 8,\n",
       "  'goalDifference': -18,\n",
       "  'goals': 40,\n",
       "  'goalsAgainst': 58,\n",
       "  'home': {'draws': 2,\n",
       "   'goals': 24,\n",
       "   'goalsAgainst': 25,\n",
       "   'losses': 9,\n",
       "   'wins': 8},\n",
       "  'losses': 19,\n",
       "  'playedGames': 38,\n",
       "  'points': 41,\n",
       "  'position': 15,\n",
       "  'teamName': 'Bologna FC',\n",
       "  'wins': 11},\n",
       " {'_links': {'team': {'href': 'http://api.football-data.org/v1/teams/107'}},\n",
       "  'away': {'draws': 2,\n",
       "   'goals': 14,\n",
       "   'goalsAgainst': 40,\n",
       "   'losses': 14,\n",
       "   'wins': 3},\n",
       "  'crestURI': 'http://upload.wikimedia.org/wikipedia/de/7/76/Genoa_CFC.svg',\n",
       "  'draws': 9,\n",
       "  'goalDifference': -26,\n",
       "  'goals': 38,\n",
       "  'goalsAgainst': 64,\n",
       "  'home': {'draws': 7,\n",
       "   'goals': 24,\n",
       "   'goalsAgainst': 24,\n",
       "   'losses': 6,\n",
       "   'wins': 6},\n",
       "  'losses': 20,\n",
       "  'playedGames': 38,\n",
       "  'points': 36,\n",
       "  'position': 16,\n",
       "  'teamName': 'Genoa CFC',\n",
       "  'wins': 9},\n",
       " {'_links': {'team': {'href': 'http://api.football-data.org/v1/teams/472'}},\n",
       "  'away': {'draws': 3,\n",
       "   'goals': 13,\n",
       "   'goalsAgainst': 33,\n",
       "   'losses': 13,\n",
       "   'wins': 3},\n",
       "  'crestURI': 'http://upload.wikimedia.org/wikipedia/de/a/ab/FC_Crotone.svg',\n",
       "  'draws': 7,\n",
       "  'goalDifference': -24,\n",
       "  'goals': 34,\n",
       "  'goalsAgainst': 58,\n",
       "  'home': {'draws': 4,\n",
       "   'goals': 21,\n",
       "   'goalsAgainst': 25,\n",
       "   'losses': 9,\n",
       "   'wins': 6},\n",
       "  'losses': 22,\n",
       "  'playedGames': 38,\n",
       "  'points': 34,\n",
       "  'position': 17,\n",
       "  'teamName': 'FC Crotone',\n",
       "  'wins': 9},\n",
       " {'_links': {'team': {'href': 'http://api.football-data.org/v1/teams/445'}},\n",
       "  'away': {'draws': 4,\n",
       "   'goals': 13,\n",
       "   'goalsAgainst': 32,\n",
       "   'losses': 12,\n",
       "   'wins': 3},\n",
       "  'crestURI': 'http://upload.wikimedia.org/wikipedia/de/4/42/Logo_FC_Empoli.svg',\n",
       "  'draws': 8,\n",
       "  'goalDifference': -32,\n",
       "  'goals': 29,\n",
       "  'goalsAgainst': 61,\n",
       "  'home': {'draws': 4,\n",
       "   'goals': 16,\n",
       "   'goalsAgainst': 29,\n",
       "   'losses': 10,\n",
       "   'wins': 5},\n",
       "  'losses': 22,\n",
       "  'playedGames': 38,\n",
       "  'points': 32,\n",
       "  'position': 18,\n",
       "  'teamName': 'Empoli FC',\n",
       "  'wins': 8},\n",
       " {'_links': {'team': {'href': 'http://api.football-data.org/v1/teams/114'}},\n",
       "  'away': {'draws': 5,\n",
       "   'goals': 20,\n",
       "   'goalsAgainst': 47,\n",
       "   'losses': 12,\n",
       "   'wins': 2},\n",
       "  'crestURI': 'http://upload.wikimedia.org/wikipedia/de/7/7f/US_Palermo.svg',\n",
       "  'draws': 8,\n",
       "  'goalDifference': -44,\n",
       "  'goals': 33,\n",
       "  'goalsAgainst': 77,\n",
       "  'home': {'draws': 3,\n",
       "   'goals': 13,\n",
       "   'goalsAgainst': 30,\n",
       "   'losses': 12,\n",
       "   'wins': 4},\n",
       "  'losses': 24,\n",
       "  'playedGames': 38,\n",
       "  'points': 26,\n",
       "  'position': 19,\n",
       "  'teamName': 'US Cittá di Palermo',\n",
       "  'wins': 6},\n",
       " {'_links': {'team': {'href': 'http://api.football-data.org/v1/teams/585'}},\n",
       "  'away': {'draws': 4,\n",
       "   'goals': 18,\n",
       "   'goalsAgainst': 43,\n",
       "   'losses': 14,\n",
       "   'wins': 1},\n",
       "  'crestURI': 'http://upload.wikimedia.org/wikipedia/de/f/ff/Pescara_Calcio.svg',\n",
       "  'draws': 9,\n",
       "  'goalDifference': -44,\n",
       "  'goals': 37,\n",
       "  'goalsAgainst': 81,\n",
       "  'home': {'draws': 5,\n",
       "   'goals': 19,\n",
       "   'goalsAgainst': 38,\n",
       "   'losses': 12,\n",
       "   'wins': 2},\n",
       "  'losses': 26,\n",
       "  'playedGames': 38,\n",
       "  'points': 18,\n",
       "  'position': 20,\n",
       "  'teamName': 'Pescara Calcio',\n",
       "  'wins': 3}]"
      ]
     },
     "execution_count": 4,
     "metadata": {},
     "output_type": "execute_result"
    }
   ],
   "source": [
    "standings = call_api('http://api.football-data.org/v1/competitions/438/leagueTable', 'standing')\n",
    "standings"
   ]
  },
  {
   "cell_type": "markdown",
   "metadata": {},
   "source": [
    "Для каждой команды получаем кол-во пропущенных мячей и проигрышей за сезон"
   ]
  },
  {
   "cell_type": "code",
   "execution_count": 5,
   "metadata": {},
   "outputs": [
    {
     "name": "stdout",
     "output_type": "stream",
     "text": [
      "Team \"Juventus Turin\", 5 losses, 27 goals_against\n",
      "Team \"AS Roma\", 7 losses, 38 goals_against\n",
      "Team \"SSC Napoli\", 4 losses, 39 goals_against\n",
      "Team \"Atalanta BC\", 8 losses, 41 goals_against\n",
      "Team \"SS Lazio\", 10 losses, 51 goals_against\n",
      "Team \"AC Milan\", 11 losses, 45 goals_against\n",
      "Team \"FC Internazionale Milano\", 14 losses, 49 goals_against\n",
      "Team \"ACF Fiorentina\", 10 losses, 57 goals_against\n",
      "Team \"Torino FC\", 11 losses, 66 goals_against\n",
      "Team \"UC Sampdoria\", 14 losses, 55 goals_against\n",
      "Team \"Cagliari Calcio\", 19 losses, 76 goals_against\n",
      "Team \"US Sassuolo Calcio\", 18 losses, 63 goals_against\n",
      "Team \"Udinese Calcio\", 17 losses, 56 goals_against\n",
      "Team \"AC Chievo Verona\", 19 losses, 61 goals_against\n",
      "Team \"Bologna FC\", 19 losses, 58 goals_against\n",
      "Team \"Genoa CFC\", 20 losses, 64 goals_against\n",
      "Team \"FC Crotone\", 22 losses, 58 goals_against\n",
      "Team \"Empoli FC\", 22 losses, 61 goals_against\n",
      "Team \"US Cittá di Palermo\", 24 losses, 77 goals_against\n",
      "Team \"Pescara Calcio\", 26 losses, 81 goals_against\n"
     ]
    }
   ],
   "source": [
    "for team in standings:\n",
    "    print('Team \"{}\", {} losses, {} goals_against'.format(team['teamName'], team['losses'], team['goalsAgainst']))"
   ]
  },
  {
   "cell_type": "markdown",
   "metadata": {},
   "source": [
    "Готовим данные для трансформации в Pandas"
   ]
  },
  {
   "cell_type": "code",
   "execution_count": 6,
   "metadata": {},
   "outputs": [
    {
     "data": {
      "text/plain": [
       "[{'goals_against': 27, 'losses': 5, 'name': 'Juventus Turin'},\n",
       " {'goals_against': 38, 'losses': 7, 'name': 'AS Roma'},\n",
       " {'goals_against': 39, 'losses': 4, 'name': 'SSC Napoli'},\n",
       " {'goals_against': 41, 'losses': 8, 'name': 'Atalanta BC'},\n",
       " {'goals_against': 51, 'losses': 10, 'name': 'SS Lazio'},\n",
       " {'goals_against': 45, 'losses': 11, 'name': 'AC Milan'},\n",
       " {'goals_against': 49, 'losses': 14, 'name': 'FC Internazionale Milano'},\n",
       " {'goals_against': 57, 'losses': 10, 'name': 'ACF Fiorentina'},\n",
       " {'goals_against': 66, 'losses': 11, 'name': 'Torino FC'},\n",
       " {'goals_against': 55, 'losses': 14, 'name': 'UC Sampdoria'},\n",
       " {'goals_against': 76, 'losses': 19, 'name': 'Cagliari Calcio'},\n",
       " {'goals_against': 63, 'losses': 18, 'name': 'US Sassuolo Calcio'},\n",
       " {'goals_against': 56, 'losses': 17, 'name': 'Udinese Calcio'},\n",
       " {'goals_against': 61, 'losses': 19, 'name': 'AC Chievo Verona'},\n",
       " {'goals_against': 58, 'losses': 19, 'name': 'Bologna FC'},\n",
       " {'goals_against': 64, 'losses': 20, 'name': 'Genoa CFC'},\n",
       " {'goals_against': 58, 'losses': 22, 'name': 'FC Crotone'},\n",
       " {'goals_against': 61, 'losses': 22, 'name': 'Empoli FC'},\n",
       " {'goals_against': 77, 'losses': 24, 'name': 'US Cittá di Palermo'},\n",
       " {'goals_against': 81, 'losses': 26, 'name': 'Pescara Calcio'}]"
      ]
     },
     "execution_count": 6,
     "metadata": {},
     "output_type": "execute_result"
    }
   ],
   "source": [
    "team_for_pd = []\n",
    "for team in standings:\n",
    "    team_for_pd.append({'name': team['teamName'], 'losses': team['losses'], 'goals_against': team['goalsAgainst']})\n",
    "team_for_pd"
   ]
  },
  {
   "cell_type": "markdown",
   "metadata": {},
   "source": [
    "Трансформируем"
   ]
  },
  {
   "cell_type": "code",
   "execution_count": 7,
   "metadata": {},
   "outputs": [
    {
     "data": {
      "text/html": [
       "<div>\n",
       "<style>\n",
       "    .dataframe thead tr:only-child th {\n",
       "        text-align: right;\n",
       "    }\n",
       "\n",
       "    .dataframe thead th {\n",
       "        text-align: left;\n",
       "    }\n",
       "\n",
       "    .dataframe tbody tr th {\n",
       "        vertical-align: top;\n",
       "    }\n",
       "</style>\n",
       "<table border=\"1\" class=\"dataframe\">\n",
       "  <thead>\n",
       "    <tr style=\"text-align: right;\">\n",
       "      <th></th>\n",
       "      <th>goals_against</th>\n",
       "      <th>losses</th>\n",
       "      <th>name</th>\n",
       "    </tr>\n",
       "  </thead>\n",
       "  <tbody>\n",
       "    <tr>\n",
       "      <th>0</th>\n",
       "      <td>27</td>\n",
       "      <td>5</td>\n",
       "      <td>Juventus Turin</td>\n",
       "    </tr>\n",
       "    <tr>\n",
       "      <th>1</th>\n",
       "      <td>38</td>\n",
       "      <td>7</td>\n",
       "      <td>AS Roma</td>\n",
       "    </tr>\n",
       "    <tr>\n",
       "      <th>2</th>\n",
       "      <td>39</td>\n",
       "      <td>4</td>\n",
       "      <td>SSC Napoli</td>\n",
       "    </tr>\n",
       "    <tr>\n",
       "      <th>3</th>\n",
       "      <td>41</td>\n",
       "      <td>8</td>\n",
       "      <td>Atalanta BC</td>\n",
       "    </tr>\n",
       "    <tr>\n",
       "      <th>4</th>\n",
       "      <td>51</td>\n",
       "      <td>10</td>\n",
       "      <td>SS Lazio</td>\n",
       "    </tr>\n",
       "    <tr>\n",
       "      <th>5</th>\n",
       "      <td>45</td>\n",
       "      <td>11</td>\n",
       "      <td>AC Milan</td>\n",
       "    </tr>\n",
       "    <tr>\n",
       "      <th>6</th>\n",
       "      <td>49</td>\n",
       "      <td>14</td>\n",
       "      <td>FC Internazionale Milano</td>\n",
       "    </tr>\n",
       "    <tr>\n",
       "      <th>7</th>\n",
       "      <td>57</td>\n",
       "      <td>10</td>\n",
       "      <td>ACF Fiorentina</td>\n",
       "    </tr>\n",
       "    <tr>\n",
       "      <th>8</th>\n",
       "      <td>66</td>\n",
       "      <td>11</td>\n",
       "      <td>Torino FC</td>\n",
       "    </tr>\n",
       "    <tr>\n",
       "      <th>9</th>\n",
       "      <td>55</td>\n",
       "      <td>14</td>\n",
       "      <td>UC Sampdoria</td>\n",
       "    </tr>\n",
       "    <tr>\n",
       "      <th>10</th>\n",
       "      <td>76</td>\n",
       "      <td>19</td>\n",
       "      <td>Cagliari Calcio</td>\n",
       "    </tr>\n",
       "    <tr>\n",
       "      <th>11</th>\n",
       "      <td>63</td>\n",
       "      <td>18</td>\n",
       "      <td>US Sassuolo Calcio</td>\n",
       "    </tr>\n",
       "    <tr>\n",
       "      <th>12</th>\n",
       "      <td>56</td>\n",
       "      <td>17</td>\n",
       "      <td>Udinese Calcio</td>\n",
       "    </tr>\n",
       "    <tr>\n",
       "      <th>13</th>\n",
       "      <td>61</td>\n",
       "      <td>19</td>\n",
       "      <td>AC Chievo Verona</td>\n",
       "    </tr>\n",
       "    <tr>\n",
       "      <th>14</th>\n",
       "      <td>58</td>\n",
       "      <td>19</td>\n",
       "      <td>Bologna FC</td>\n",
       "    </tr>\n",
       "    <tr>\n",
       "      <th>15</th>\n",
       "      <td>64</td>\n",
       "      <td>20</td>\n",
       "      <td>Genoa CFC</td>\n",
       "    </tr>\n",
       "    <tr>\n",
       "      <th>16</th>\n",
       "      <td>58</td>\n",
       "      <td>22</td>\n",
       "      <td>FC Crotone</td>\n",
       "    </tr>\n",
       "    <tr>\n",
       "      <th>17</th>\n",
       "      <td>61</td>\n",
       "      <td>22</td>\n",
       "      <td>Empoli FC</td>\n",
       "    </tr>\n",
       "    <tr>\n",
       "      <th>18</th>\n",
       "      <td>77</td>\n",
       "      <td>24</td>\n",
       "      <td>US Cittá di Palermo</td>\n",
       "    </tr>\n",
       "    <tr>\n",
       "      <th>19</th>\n",
       "      <td>81</td>\n",
       "      <td>26</td>\n",
       "      <td>Pescara Calcio</td>\n",
       "    </tr>\n",
       "  </tbody>\n",
       "</table>\n",
       "</div>"
      ],
      "text/plain": [
       "    goals_against  losses                      name\n",
       "0              27       5            Juventus Turin\n",
       "1              38       7                   AS Roma\n",
       "2              39       4                SSC Napoli\n",
       "3              41       8               Atalanta BC\n",
       "4              51      10                  SS Lazio\n",
       "5              45      11                  AC Milan\n",
       "6              49      14  FC Internazionale Milano\n",
       "7              57      10            ACF Fiorentina\n",
       "8              66      11                 Torino FC\n",
       "9              55      14              UC Sampdoria\n",
       "10             76      19           Cagliari Calcio\n",
       "11             63      18        US Sassuolo Calcio\n",
       "12             56      17            Udinese Calcio\n",
       "13             61      19          AC Chievo Verona\n",
       "14             58      19                Bologna FC\n",
       "15             64      20                 Genoa CFC\n",
       "16             58      22                FC Crotone\n",
       "17             61      22                 Empoli FC\n",
       "18             77      24       US Cittá di Palermo\n",
       "19             81      26            Pescara Calcio"
      ]
     },
     "execution_count": 7,
     "metadata": {},
     "output_type": "execute_result"
    }
   ],
   "source": [
    "teams_pd = pd.DataFrame(team_for_pd)\n",
    "teams_pd"
   ]
  },
  {
   "cell_type": "markdown",
   "metadata": {},
   "source": [
    "Отображаем"
   ]
  },
  {
   "cell_type": "code",
   "execution_count": 8,
   "metadata": {},
   "outputs": [
    {
     "data": {
      "text/plain": [
       "<matplotlib.axes._subplots.AxesSubplot at 0xa6104e0>"
      ]
     },
     "execution_count": 8,
     "metadata": {},
     "output_type": "execute_result"
    },
    {
     "data": {
      "image/png": "[encoded data removed]",
      "text/plain": [
       "<matplotlib.figure.Figure at 0xa632e48>"
      ]
     },
     "metadata": {},
     "output_type": "display_data"
    }
   ],
   "source": [
    "teams_pd.plot.scatter(x='losses', y='goals_against', s=100)"
   ]
  },
  {
   "cell_type": "markdown",
   "metadata": {},
   "source": [
    "Удаляем колонку с именами"
   ]
  },
  {
   "cell_type": "code",
   "execution_count": 9,
   "metadata": {},
   "outputs": [
    {
     "data": {
      "text/html": [
       "<div>\n",
       "<style>\n",
       "    .dataframe thead tr:only-child th {\n",
       "        text-align: right;\n",
       "    }\n",
       "\n",
       "    .dataframe thead th {\n",
       "        text-align: left;\n",
       "    }\n",
       "\n",
       "    .dataframe tbody tr th {\n",
       "        vertical-align: top;\n",
       "    }\n",
       "</style>\n",
       "<table border=\"1\" class=\"dataframe\">\n",
       "  <thead>\n",
       "    <tr style=\"text-align: right;\">\n",
       "      <th></th>\n",
       "      <th>goals_against</th>\n",
       "      <th>losses</th>\n",
       "    </tr>\n",
       "  </thead>\n",
       "  <tbody>\n",
       "    <tr>\n",
       "      <th>0</th>\n",
       "      <td>27</td>\n",
       "      <td>5</td>\n",
       "    </tr>\n",
       "    <tr>\n",
       "      <th>1</th>\n",
       "      <td>38</td>\n",
       "      <td>7</td>\n",
       "    </tr>\n",
       "    <tr>\n",
       "      <th>2</th>\n",
       "      <td>39</td>\n",
       "      <td>4</td>\n",
       "    </tr>\n",
       "    <tr>\n",
       "      <th>3</th>\n",
       "      <td>41</td>\n",
       "      <td>8</td>\n",
       "    </tr>\n",
       "    <tr>\n",
       "      <th>4</th>\n",
       "      <td>51</td>\n",
       "      <td>10</td>\n",
       "    </tr>\n",
       "    <tr>\n",
       "      <th>5</th>\n",
       "      <td>45</td>\n",
       "      <td>11</td>\n",
       "    </tr>\n",
       "    <tr>\n",
       "      <th>6</th>\n",
       "      <td>49</td>\n",
       "      <td>14</td>\n",
       "    </tr>\n",
       "    <tr>\n",
       "      <th>7</th>\n",
       "      <td>57</td>\n",
       "      <td>10</td>\n",
       "    </tr>\n",
       "    <tr>\n",
       "      <th>8</th>\n",
       "      <td>66</td>\n",
       "      <td>11</td>\n",
       "    </tr>\n",
       "    <tr>\n",
       "      <th>9</th>\n",
       "      <td>55</td>\n",
       "      <td>14</td>\n",
       "    </tr>\n",
       "    <tr>\n",
       "      <th>10</th>\n",
       "      <td>76</td>\n",
       "      <td>19</td>\n",
       "    </tr>\n",
       "    <tr>\n",
       "      <th>11</th>\n",
       "      <td>63</td>\n",
       "      <td>18</td>\n",
       "    </tr>\n",
       "    <tr>\n",
       "      <th>12</th>\n",
       "      <td>56</td>\n",
       "      <td>17</td>\n",
       "    </tr>\n",
       "    <tr>\n",
       "      <th>13</th>\n",
       "      <td>61</td>\n",
       "      <td>19</td>\n",
       "    </tr>\n",
       "    <tr>\n",
       "      <th>14</th>\n",
       "      <td>58</td>\n",
       "      <td>19</td>\n",
       "    </tr>\n",
       "    <tr>\n",
       "      <th>15</th>\n",
       "      <td>64</td>\n",
       "      <td>20</td>\n",
       "    </tr>\n",
       "    <tr>\n",
       "      <th>16</th>\n",
       "      <td>58</td>\n",
       "      <td>22</td>\n",
       "    </tr>\n",
       "    <tr>\n",
       "      <th>17</th>\n",
       "      <td>61</td>\n",
       "      <td>22</td>\n",
       "    </tr>\n",
       "    <tr>\n",
       "      <th>18</th>\n",
       "      <td>77</td>\n",
       "      <td>24</td>\n",
       "    </tr>\n",
       "    <tr>\n",
       "      <th>19</th>\n",
       "      <td>81</td>\n",
       "      <td>26</td>\n",
       "    </tr>\n",
       "  </tbody>\n",
       "</table>\n",
       "</div>"
      ],
      "text/plain": [
       "    goals_against  losses\n",
       "0              27       5\n",
       "1              38       7\n",
       "2              39       4\n",
       "3              41       8\n",
       "4              51      10\n",
       "5              45      11\n",
       "6              49      14\n",
       "7              57      10\n",
       "8              66      11\n",
       "9              55      14\n",
       "10             76      19\n",
       "11             63      18\n",
       "12             56      17\n",
       "13             61      19\n",
       "14             58      19\n",
       "15             64      20\n",
       "16             58      22\n",
       "17             61      22\n",
       "18             77      24\n",
       "19             81      26"
      ]
     },
     "execution_count": 9,
     "metadata": {},
     "output_type": "execute_result"
    }
   ],
   "source": [
    "del teams_pd['name']\n",
    "teams_pd"
   ]
  },
  {
   "cell_type": "markdown",
   "metadata": {},
   "source": [
    "Нормализация данных"
   ]
  },
  {
   "cell_type": "code",
   "execution_count": 10,
   "metadata": {},
   "outputs": [
    {
     "data": {
      "text/plain": [
       "array([[ 2.00896249,  0.78860037],\n",
       "       [ 2.82742869,  1.10404052],\n",
       "       [ 2.90183471,  0.6308803 ],\n",
       "       [ 3.05064675,  1.2617606 ],\n",
       "       [ 3.79470693,  1.57720074],\n",
       "       [ 3.34827082,  1.73492082],\n",
       "       [ 3.64589489,  2.20808104],\n",
       "       [ 4.24114304,  1.57720074],\n",
       "       [ 4.91079721,  1.73492082],\n",
       "       [ 4.092331  ,  2.20808104],\n",
       "       [ 5.65485739,  2.99668141],\n",
       "       [ 4.68757915,  2.83896134],\n",
       "       [ 4.16673702,  2.68124127],\n",
       "       [ 4.53876711,  2.99668141],\n",
       "       [ 4.31554906,  2.99668141],\n",
       "       [ 4.76198517,  3.15440149],\n",
       "       [ 4.31554906,  3.46984164],\n",
       "       [ 4.53876711,  3.46984164],\n",
       "       [ 5.72926341,  3.78528179],\n",
       "       [ 6.02688748,  4.10072194]])"
      ]
     },
     "execution_count": 10,
     "metadata": {},
     "output_type": "execute_result"
    }
   ],
   "source": [
    "whitened = whiten(teams_pd.as_matrix())\n",
    "whitened"
   ]
  },
  {
   "cell_type": "markdown",
   "metadata": {},
   "source": [
    "Сделаем 3 кластера"
   ]
  },
  {
   "cell_type": "code",
   "execution_count": 11,
   "metadata": {},
   "outputs": [
    {
     "data": {
      "text/plain": [
       "(array([[ 4.32484981,  2.40523114],\n",
       "        [ 2.98864173,  1.18290056],\n",
       "        [ 5.17121827,  3.49612832]]),\n",
       " array([1, 1, 1, 1, 1, 1, 0, 0, 0, 0, 2, 0, 0, 0, 0, 2, 2, 2, 2, 2]))"
      ]
     },
     "execution_count": 11,
     "metadata": {},
     "output_type": "execute_result"
    }
   ],
   "source": [
    "centroids, cluster_map = kmeans2(whitened, 3)\n",
    "centroids, cluster_map"
   ]
  },
  {
   "cell_type": "markdown",
   "metadata": {},
   "source": [
    "Зададим цвета для каждого кластера"
   ]
  },
  {
   "cell_type": "code",
   "execution_count": 12,
   "metadata": {},
   "outputs": [
    {
     "data": {
      "text/plain": [
       "['g',\n",
       " 'g',\n",
       " 'g',\n",
       " 'g',\n",
       " 'g',\n",
       " 'g',\n",
       " 'r',\n",
       " 'r',\n",
       " 'r',\n",
       " 'r',\n",
       " 'b',\n",
       " 'r',\n",
       " 'r',\n",
       " 'r',\n",
       " 'r',\n",
       " 'b',\n",
       " 'b',\n",
       " 'b',\n",
       " 'b',\n",
       " 'b']"
      ]
     },
     "execution_count": 12,
     "metadata": {},
     "output_type": "execute_result"
    }
   ],
   "source": [
    "colors_map = {0: 'r', 1: 'g', 2: 'b', 3: 'y', 4: 'm'}\n",
    "colors = [colors_map[c] for c in cluster_map]\n",
    "colors"
   ]
  },
  {
   "cell_type": "code",
   "execution_count": 13,
   "metadata": {},
   "outputs": [
    {
     "data": {
      "text/plain": [
       "<matplotlib.axes._subplots.AxesSubplot at 0xa6d5668>"
      ]
     },
     "execution_count": 13,
     "metadata": {},
     "output_type": "execute_result"
    },
    {
     "data": {
      "image/png": "[encoded data removed]",
      "text/plain": [
       "<matplotlib.figure.Figure at 0xa86bb00>"
      ]
     },
     "metadata": {},
     "output_type": "display_data"
    }
   ],
   "source": [
    "teams_pd.plot.scatter(x='losses', y='goals_against', c=colors, s=100)"
   ]
  },
  {
   "cell_type": "markdown",
   "metadata": {},
   "source": [
    "Теперь сделаем 5 кластеров."
   ]
  },
  {
   "cell_type": "code",
   "execution_count": 15,
   "metadata": {
    "scrolled": true
   },
   "outputs": [
    {
     "name": "stderr",
     "output_type": "stream",
     "text": [
      "C:\\Users\\IvanovKS\\AppData\\Local\\Continuum\\anaconda3\\lib\\site-packages\\scipy\\cluster\\vq.py:660: UserWarning: One of the clusters is empty. Re-run kmean with a different initialization.\n",
      "  warnings.warn(\"One of the clusters is empty. \"\n"
     ]
    },
    {
     "data": {
      "text/plain": [
       "(array([[ 4.47499053,  3.08680717],\n",
       "        [ 2.93903772,  1.18290056],\n",
       "        [ 5.80366942,  3.62756171],\n",
       "        [ 2.4553986 ,  0.70974034],\n",
       "        [ 4.00552398,  1.84006754]]),\n",
       " array([3, 1, 3, 1, 4, 4, 4, 4, 4, 4, 2, 0, 0, 0, 0, 0, 0, 0, 2, 2]))"
      ]
     },
     "execution_count": 15,
     "metadata": {},
     "output_type": "execute_result"
    }
   ],
   "source": [
    "centroids, cluster_map = kmeans2(whitened, 5)\n",
    "centroids, cluster_map"
   ]
  },
  {
   "cell_type": "code",
   "execution_count": 16,
   "metadata": {},
   "outputs": [
    {
     "data": {
      "text/plain": [
       "['y',\n",
       " 'g',\n",
       " 'y',\n",
       " 'g',\n",
       " 'm',\n",
       " 'm',\n",
       " 'm',\n",
       " 'm',\n",
       " 'm',\n",
       " 'm',\n",
       " 'b',\n",
       " 'r',\n",
       " 'r',\n",
       " 'r',\n",
       " 'r',\n",
       " 'r',\n",
       " 'r',\n",
       " 'r',\n",
       " 'b',\n",
       " 'b']"
      ]
     },
     "execution_count": 16,
     "metadata": {},
     "output_type": "execute_result"
    }
   ],
   "source": [
    "colors_map = {0: 'r', 1: 'g', 2: 'b', 3: 'y', 4: 'm'}\n",
    "colors = [colors_map[c] for c in cluster_map]\n",
    "colors"
   ]
  },
  {
   "cell_type": "code",
   "execution_count": 17,
   "metadata": {},
   "outputs": [
    {
     "data": {
      "text/plain": [
       "<matplotlib.axes._subplots.AxesSubplot at 0xa8d5cc0>"
      ]
     },
     "execution_count": 17,
     "metadata": {},
     "output_type": "execute_result"
    },
    {
     "data": {
      "image/png": "[encoded data removed]",
      "text/plain": [
       "<matplotlib.figure.Figure at 0xa8e36d8>"
      ]
     },
     "metadata": {},
     "output_type": "display_data"
    }
   ],
   "source": [
    "teams_pd.plot.scatter(x='losses', y='goals_against', c=colors, s=100)"
   ]
  }
 ],
 "metadata": {
  "kernelspec": {
   "display_name": "Python 3",
   "language": "python",
   "name": "python3"
  },
  "language_info": {
   "codemirror_mode": {
    "name": "ipython",
    "version": 3
   },
   "file_extension": ".py",
   "mimetype": "text/x-python",
   "name": "python",
   "nbconvert_exporter": "python",
   "pygments_lexer": "ipython3",
   "version": "3.6.2"
  }
 },
 "nbformat": 4,
 "nbformat_minor": 2
}
